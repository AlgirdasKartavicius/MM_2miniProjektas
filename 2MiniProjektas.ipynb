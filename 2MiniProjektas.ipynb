{
 "cells": [
  {
   "cell_type": "markdown",
   "metadata": {},
   "source": [
    "# ~XYZ~ atvirų duomenų analizė\n",
    "\n",
    "Data: ~2019-12-03~\n",
    "\n",
    "Autorius: © 2019 Algirdas Kartavičius, (kontaktas/nuoroda)~. \n",
    "\n",
    "## Analizė atsako į šiuos klausimus:\n",
    "1. ~[Pirmas MP1 klausimas](#Pirmas-MP1-klausimas?)~?\n",
    "1. ~[Antras MP1 klausimas](#Pirmas-MP1-klausimas?)~?\n",
    "1. ~[Trečias MP1 klausimas](#Trečias-MP1-klausimas?)~? (MM)\n",
    "1. [Kokiu tikslumu galima nustatyti automobilio kuro-rūšį pagal pirmos registracijos datą, sandorio datą ir kainą?](#Kokiu-tikslumu-galima-nustatyti-automobilio-kuro-rūšį-pagal--pirmos-registracijos-datą,-sandorio-datą-ir-kainą?) (MM2)\n",
    "1. [Kokiu tikslumu galima nustatyti automobilio markę pagal pagaminimo datą, sandorio datą, galią, darbinį tūrį ir kainą?](#Kokiu-tikslumu-galima-nustatyti-automobilio-markę-pagal-pagaminimo-datą,-sandorio-datą,-galią,-darbinį-tūrį-ir-kainą?) (MM2)\n",
    "1. [Kokiu tikslumu galima nustatyti automobilio kainą](#Kokiu-tikslumu-galima-nustatyti-automobilio-kainą?) (MM2)\n",
    "\n",
    "## Pasitelkiami duomenų šaltiniai:\n",
    "* ~[https://www.epolicija.lt/atviri-duomenys](https://www.epolicija.lt/atviri-duomenys)~\n",
    "\n",
    "Šis sąsiuvinis yra platinamas pagal <a rel=\"license\" href=\"http://creativecommons.org/licenses/by/4.0/\">Creative Commons Priskyrimas 4.0 Tarptautinė licenciją</a>. <a rel=\"license\" href=\"http://creativecommons.org/licenses/by/4.0/\"><img alt=\"Creative Commons licencija\" style=\"border-width:0\" src=\"https://i.creativecommons.org/l/by/4.0/80x15.png\" /></a> \n",
    "\n",
    "Jis yra dalis atsiskaitymo [KTU IF](https://if.ktu.edu/) kurse [P176M010 \"Pažangus mašininis mokymasis\"](https://stojantiesiems.ktu.edu/programme/m-programu-sistemu-inzinerija/#P176M010), kurį veda [M. Lukoševičius](http://mantas.info/)."
   ]
  },
  {
   "cell_type": "markdown",
   "metadata": {},
   "source": [
    "## Įsikeliame duomenis"
   ]
  },
  {
   "cell_type": "code",
   "execution_count": 89,
   "metadata": {},
   "outputs": [],
   "source": [
    "import numpy as np\n",
    "import pandas as pd\n",
    "import matplotlib.pyplot as plt\n",
    "plt.style.use('classic')\n",
    "%matplotlib inline\n",
    "import seaborn as sns\n",
    "import io, requests\n",
    "sns.set()\n",
    "import datetime as dt\n",
    "from datetime import date\n",
    "import zipfile\n",
    "from sklearn.svm import SVC\n",
    "from sklearn.neighbors import KNeighborsClassifier\n",
    "from sklearn.naive_bayes import GaussianNB\n",
    "from sklearn.ensemble import RandomForestClassifier\n",
    "from sklearn.preprocessing import MinMaxScaler\n",
    "from sklearn.ensemble import GradientBoostingRegressor\n",
    "from sklearn.model_selection import cross_val_score\n",
    "from sklearn.metrics import mean_squared_error\n",
    "from sklearn.metrics import r2_score"
   ]
  },
  {
   "cell_type": "markdown",
   "metadata": {},
   "source": [
    "Nusiskaitome ..."
   ]
  },
  {
   "cell_type": "code",
   "execution_count": 90,
   "metadata": {},
   "outputs": [
    {
     "name": "stderr",
     "output_type": "stream",
     "text": [
      "C:\\Algirdo\\Magistras\\MasininisMokymasis\\WPy64-3740\\python-3.7.4.amd64\\lib\\site-packages\\IPython\\core\\interactiveshell.py:3057: DtypeWarning: Columns (6,7) have mixed types. Specify dtype option on import or set low_memory=False.\n",
      "  interactivity=interactivity, compiler=compiler, result=result)\n"
     ]
    },
    {
     "data": {
      "text/html": [
       "<div>\n",
       "<style scoped>\n",
       "    .dataframe tbody tr th:only-of-type {\n",
       "        vertical-align: middle;\n",
       "    }\n",
       "\n",
       "    .dataframe tbody tr th {\n",
       "        vertical-align: top;\n",
       "    }\n",
       "\n",
       "    .dataframe thead th {\n",
       "        text-align: right;\n",
       "    }\n",
       "</style>\n",
       "<table border=\"1\" class=\"dataframe\">\n",
       "  <thead>\n",
       "    <tr style=\"text-align: right;\">\n",
       "      <th></th>\n",
       "      <th>MARKE</th>\n",
       "      <th>PIRM_REG_DATA_LT</th>\n",
       "      <th>PASKUTINES_REG_DATA</th>\n",
       "      <th>DEGALAI</th>\n",
       "      <th>KILMES_SALIS</th>\n",
       "      <th>SANDORIO_SUMA</th>\n",
       "      <th>VALIUTA</th>\n",
       "      <th>SANDORIO_DATA</th>\n",
       "      <th>GALIA</th>\n",
       "      <th>DARBINIS_TURIS</th>\n",
       "      <th>PIRM_REG_DATA</th>\n",
       "    </tr>\n",
       "  </thead>\n",
       "  <tbody>\n",
       "    <tr>\n",
       "      <th>0</th>\n",
       "      <td>MAZDA</td>\n",
       "      <td>2016-01-04</td>\n",
       "      <td>2016-01-04</td>\n",
       "      <td>Dyzelinas</td>\n",
       "      <td>NaN</td>\n",
       "      <td>25000.0</td>\n",
       "      <td>EUR</td>\n",
       "      <td>2015-01-04</td>\n",
       "      <td>110.0</td>\n",
       "      <td>2191.0</td>\n",
       "      <td>2016-01-04</td>\n",
       "    </tr>\n",
       "    <tr>\n",
       "      <th>1</th>\n",
       "      <td>SUBARU</td>\n",
       "      <td>2016-01-06</td>\n",
       "      <td>2016-01-06</td>\n",
       "      <td>Benzinas</td>\n",
       "      <td>NaN</td>\n",
       "      <td>33900.0</td>\n",
       "      <td>EUR</td>\n",
       "      <td>2015-01-04</td>\n",
       "      <td>129.0</td>\n",
       "      <td>2498.0</td>\n",
       "      <td>2016-01-06</td>\n",
       "    </tr>\n",
       "    <tr>\n",
       "      <th>2</th>\n",
       "      <td>HYUNDAI</td>\n",
       "      <td>2016-01-11</td>\n",
       "      <td>2016-01-11</td>\n",
       "      <td>Dyzelinas</td>\n",
       "      <td>SWE</td>\n",
       "      <td>700.0</td>\n",
       "      <td>EUR</td>\n",
       "      <td>2015-01-05</td>\n",
       "      <td>83.0</td>\n",
       "      <td>1991.0</td>\n",
       "      <td>2002-06-27</td>\n",
       "    </tr>\n",
       "    <tr>\n",
       "      <th>3</th>\n",
       "      <td>MERCEDES BENZ</td>\n",
       "      <td>2016-01-13</td>\n",
       "      <td>2016-01-13</td>\n",
       "      <td>Dyzelinas</td>\n",
       "      <td>DEU</td>\n",
       "      <td>3500.0</td>\n",
       "      <td>EUR</td>\n",
       "      <td>2015-01-12</td>\n",
       "      <td>90.0</td>\n",
       "      <td>2874.0</td>\n",
       "      <td>1997-09-29</td>\n",
       "    </tr>\n",
       "    <tr>\n",
       "      <th>4</th>\n",
       "      <td>LOHR</td>\n",
       "      <td>2016-01-12</td>\n",
       "      <td>2016-01-12</td>\n",
       "      <td>--</td>\n",
       "      <td>FRA</td>\n",
       "      <td>NaN</td>\n",
       "      <td>EUR</td>\n",
       "      <td>2015-01-15</td>\n",
       "      <td>NaN</td>\n",
       "      <td>NaN</td>\n",
       "      <td>1999-10-11</td>\n",
       "    </tr>\n",
       "  </tbody>\n",
       "</table>\n",
       "</div>"
      ],
      "text/plain": [
       "           MARKE PIRM_REG_DATA_LT PASKUTINES_REG_DATA    DEGALAI KILMES_SALIS  \\\n",
       "0          MAZDA       2016-01-04          2016-01-04  Dyzelinas          NaN   \n",
       "1         SUBARU       2016-01-06          2016-01-06   Benzinas          NaN   \n",
       "2        HYUNDAI       2016-01-11          2016-01-11  Dyzelinas          SWE   \n",
       "3  MERCEDES BENZ       2016-01-13          2016-01-13  Dyzelinas          DEU   \n",
       "4           LOHR       2016-01-12          2016-01-12         --          FRA   \n",
       "\n",
       "   SANDORIO_SUMA VALIUTA SANDORIO_DATA  GALIA  DARBINIS_TURIS PIRM_REG_DATA  \n",
       "0        25000.0     EUR    2015-01-04  110.0          2191.0    2016-01-04  \n",
       "1        33900.0     EUR    2015-01-04  129.0          2498.0    2016-01-06  \n",
       "2          700.0     EUR    2015-01-05   83.0          1991.0    2002-06-27  \n",
       "3         3500.0     EUR    2015-01-12   90.0          2874.0    1997-09-29  \n",
       "4            NaN     EUR    2015-01-15    NaN             NaN    1999-10-11  "
      ]
     },
     "execution_count": 90,
     "metadata": {},
     "output_type": "execute_result"
    }
   ],
   "source": [
    "zf = zipfile.ZipFile('data2.zip')\n",
    "raw_data = pd.read_csv(zf.open('exported_car_model_data.csv'), sep=',', error_bad_lines=False, index_col=False, encoding=\"ISO-8859-1\") \n",
    "raw_data.head()"
   ]
  },
  {
   "cell_type": "markdown",
   "metadata": {},
   "source": [
    "..."
   ]
  },
  {
   "cell_type": "code",
   "execution_count": null,
   "metadata": {},
   "outputs": [],
   "source": []
  },
  {
   "cell_type": "markdown",
   "metadata": {},
   "source": [
    "## ~Pirmas MP1 klausimas~?"
   ]
  },
  {
   "cell_type": "code",
   "execution_count": null,
   "metadata": {
    "scrolled": true
   },
   "outputs": [],
   "source": []
  },
  {
   "cell_type": "markdown",
   "metadata": {},
   "source": [
    "## ~Antras MP1 klausimas~?"
   ]
  },
  {
   "cell_type": "code",
   "execution_count": null,
   "metadata": {
    "scrolled": true
   },
   "outputs": [],
   "source": []
  },
  {
   "cell_type": "markdown",
   "metadata": {},
   "source": [
    "## ~Trečias MP1 klausimas~?"
   ]
  },
  {
   "cell_type": "code",
   "execution_count": null,
   "metadata": {},
   "outputs": [],
   "source": []
  },
  {
   "cell_type": "markdown",
   "metadata": {},
   "source": [
    "##  Kokiu tikslumu galima nustatyti automobilio kuro rūšį pagal  pirmos registracijos datą, sandorio datą ir kainą?"
   ]
  },
  {
   "cell_type": "markdown",
   "metadata": {},
   "source": [
    "Išfiltruojam eilutes, kuriose yra visi reikiami laukai bei valiuta yra €.   \n",
    "Po to pasirenkama automobilius, kurių kuras Dyzelinas arba Benzinas, kadangi kitų rūšių yra per mažai duomenų."
   ]
  },
  {
   "cell_type": "code",
   "execution_count": 91,
   "metadata": {
    "scrolled": true
   },
   "outputs": [
    {
     "data": {
      "text/html": [
       "<div>\n",
       "<style scoped>\n",
       "    .dataframe tbody tr th:only-of-type {\n",
       "        vertical-align: middle;\n",
       "    }\n",
       "\n",
       "    .dataframe tbody tr th {\n",
       "        vertical-align: top;\n",
       "    }\n",
       "\n",
       "    .dataframe thead th {\n",
       "        text-align: right;\n",
       "    }\n",
       "</style>\n",
       "<table border=\"1\" class=\"dataframe\">\n",
       "  <thead>\n",
       "    <tr style=\"text-align: right;\">\n",
       "      <th></th>\n",
       "      <th>DEGALAI</th>\n",
       "      <th>SANDORIO_SUMA</th>\n",
       "      <th>SANDORIO_DATA_DAYS</th>\n",
       "      <th>PIRM_REG_DATA_DAYS</th>\n",
       "    </tr>\n",
       "  </thead>\n",
       "  <tbody>\n",
       "    <tr>\n",
       "      <th>0</th>\n",
       "      <td>Dyzelinas</td>\n",
       "      <td>25000.00</td>\n",
       "      <td>1792</td>\n",
       "      <td>1427</td>\n",
       "    </tr>\n",
       "    <tr>\n",
       "      <th>1</th>\n",
       "      <td>Benzinas</td>\n",
       "      <td>33900.00</td>\n",
       "      <td>1792</td>\n",
       "      <td>1425</td>\n",
       "    </tr>\n",
       "    <tr>\n",
       "      <th>3</th>\n",
       "      <td>Dyzelinas</td>\n",
       "      <td>3500.00</td>\n",
       "      <td>1784</td>\n",
       "      <td>8098</td>\n",
       "    </tr>\n",
       "    <tr>\n",
       "      <th>5</th>\n",
       "      <td>Benzinas</td>\n",
       "      <td>11700.00</td>\n",
       "      <td>1776</td>\n",
       "      <td>1418</td>\n",
       "    </tr>\n",
       "    <tr>\n",
       "      <th>8</th>\n",
       "      <td>Dyzelinas</td>\n",
       "      <td>9000.00</td>\n",
       "      <td>1642</td>\n",
       "      <td>8521</td>\n",
       "    </tr>\n",
       "    <tr>\n",
       "      <th>9</th>\n",
       "      <td>Dyzelinas</td>\n",
       "      <td>38500.00</td>\n",
       "      <td>1640</td>\n",
       "      <td>1427</td>\n",
       "    </tr>\n",
       "    <tr>\n",
       "      <th>12</th>\n",
       "      <td>Dyzelinas</td>\n",
       "      <td>22000.00</td>\n",
       "      <td>1601</td>\n",
       "      <td>6813</td>\n",
       "    </tr>\n",
       "    <tr>\n",
       "      <th>13</th>\n",
       "      <td>Dyzelinas</td>\n",
       "      <td>71245.00</td>\n",
       "      <td>1599</td>\n",
       "      <td>1426</td>\n",
       "    </tr>\n",
       "    <tr>\n",
       "      <th>14</th>\n",
       "      <td>Dyzelinas</td>\n",
       "      <td>71245.00</td>\n",
       "      <td>1599</td>\n",
       "      <td>1426</td>\n",
       "    </tr>\n",
       "    <tr>\n",
       "      <th>15</th>\n",
       "      <td>Benzinas</td>\n",
       "      <td>78854.00</td>\n",
       "      <td>1595</td>\n",
       "      <td>1420</td>\n",
       "    </tr>\n",
       "    <tr>\n",
       "      <th>20</th>\n",
       "      <td>Benzinas</td>\n",
       "      <td>42814.80</td>\n",
       "      <td>1558</td>\n",
       "      <td>1417</td>\n",
       "    </tr>\n",
       "    <tr>\n",
       "      <th>21</th>\n",
       "      <td>Dyzelinas</td>\n",
       "      <td>1115.50</td>\n",
       "      <td>1545</td>\n",
       "      <td>7240</td>\n",
       "    </tr>\n",
       "    <tr>\n",
       "      <th>22</th>\n",
       "      <td>Benzinas</td>\n",
       "      <td>21700.00</td>\n",
       "      <td>1542</td>\n",
       "      <td>1412</td>\n",
       "    </tr>\n",
       "    <tr>\n",
       "      <th>23</th>\n",
       "      <td>Dyzelinas</td>\n",
       "      <td>67870.00</td>\n",
       "      <td>1542</td>\n",
       "      <td>1427</td>\n",
       "    </tr>\n",
       "    <tr>\n",
       "      <th>24</th>\n",
       "      <td>Dyzelinas</td>\n",
       "      <td>20050.00</td>\n",
       "      <td>1539</td>\n",
       "      <td>1412</td>\n",
       "    </tr>\n",
       "    <tr>\n",
       "      <th>25</th>\n",
       "      <td>Dyzelinas</td>\n",
       "      <td>18500.00</td>\n",
       "      <td>1536</td>\n",
       "      <td>2347</td>\n",
       "    </tr>\n",
       "    <tr>\n",
       "      <th>26</th>\n",
       "      <td>Dyzelinas</td>\n",
       "      <td>30300.00</td>\n",
       "      <td>1532</td>\n",
       "      <td>1426</td>\n",
       "    </tr>\n",
       "    <tr>\n",
       "      <th>27</th>\n",
       "      <td>Dyzelinas</td>\n",
       "      <td>30300.00</td>\n",
       "      <td>1532</td>\n",
       "      <td>1426</td>\n",
       "    </tr>\n",
       "    <tr>\n",
       "      <th>28</th>\n",
       "      <td>Dyzelinas</td>\n",
       "      <td>30300.00</td>\n",
       "      <td>1532</td>\n",
       "      <td>1426</td>\n",
       "    </tr>\n",
       "    <tr>\n",
       "      <th>29</th>\n",
       "      <td>Dyzelinas</td>\n",
       "      <td>6000.00</td>\n",
       "      <td>1528</td>\n",
       "      <td>4286</td>\n",
       "    </tr>\n",
       "    <tr>\n",
       "      <th>30</th>\n",
       "      <td>Dyzelinas</td>\n",
       "      <td>13642.00</td>\n",
       "      <td>1528</td>\n",
       "      <td>7857</td>\n",
       "    </tr>\n",
       "    <tr>\n",
       "      <th>31</th>\n",
       "      <td>Dyzelinas</td>\n",
       "      <td>25000.00</td>\n",
       "      <td>1528</td>\n",
       "      <td>4112</td>\n",
       "    </tr>\n",
       "    <tr>\n",
       "      <th>32</th>\n",
       "      <td>Dyzelinas</td>\n",
       "      <td>69250.00</td>\n",
       "      <td>1528</td>\n",
       "      <td>1419</td>\n",
       "    </tr>\n",
       "    <tr>\n",
       "      <th>35</th>\n",
       "      <td>Dyzelinas</td>\n",
       "      <td>83777.00</td>\n",
       "      <td>1521</td>\n",
       "      <td>1425</td>\n",
       "    </tr>\n",
       "    <tr>\n",
       "      <th>36</th>\n",
       "      <td>Dyzelinas</td>\n",
       "      <td>15600.00</td>\n",
       "      <td>1511</td>\n",
       "      <td>1424</td>\n",
       "    </tr>\n",
       "    <tr>\n",
       "      <th>37</th>\n",
       "      <td>Dyzelinas</td>\n",
       "      <td>46280.99</td>\n",
       "      <td>1511</td>\n",
       "      <td>1427</td>\n",
       "    </tr>\n",
       "    <tr>\n",
       "      <th>38</th>\n",
       "      <td>Benzinas</td>\n",
       "      <td>61500.00</td>\n",
       "      <td>1510</td>\n",
       "      <td>1418</td>\n",
       "    </tr>\n",
       "    <tr>\n",
       "      <th>43</th>\n",
       "      <td>Dyzelinas</td>\n",
       "      <td>29051.98</td>\n",
       "      <td>1507</td>\n",
       "      <td>1423</td>\n",
       "    </tr>\n",
       "    <tr>\n",
       "      <th>48</th>\n",
       "      <td>Dyzelinas</td>\n",
       "      <td>19900.00</td>\n",
       "      <td>1503</td>\n",
       "      <td>1418</td>\n",
       "    </tr>\n",
       "    <tr>\n",
       "      <th>49</th>\n",
       "      <td>Dyzelinas</td>\n",
       "      <td>21333.00</td>\n",
       "      <td>1503</td>\n",
       "      <td>1429</td>\n",
       "    </tr>\n",
       "    <tr>\n",
       "      <th>...</th>\n",
       "      <td>...</td>\n",
       "      <td>...</td>\n",
       "      <td>...</td>\n",
       "      <td>...</td>\n",
       "    </tr>\n",
       "    <tr>\n",
       "      <th>689443</th>\n",
       "      <td>Benzinas</td>\n",
       "      <td>19000.00</td>\n",
       "      <td>65</td>\n",
       "      <td>1158</td>\n",
       "    </tr>\n",
       "    <tr>\n",
       "      <th>689444</th>\n",
       "      <td>Dyzelinas</td>\n",
       "      <td>82944.00</td>\n",
       "      <td>65</td>\n",
       "      <td>66</td>\n",
       "    </tr>\n",
       "    <tr>\n",
       "      <th>689445</th>\n",
       "      <td>Dyzelinas</td>\n",
       "      <td>24140.00</td>\n",
       "      <td>65</td>\n",
       "      <td>65</td>\n",
       "    </tr>\n",
       "    <tr>\n",
       "      <th>689446</th>\n",
       "      <td>Benzinas</td>\n",
       "      <td>10490.00</td>\n",
       "      <td>65</td>\n",
       "      <td>1207</td>\n",
       "    </tr>\n",
       "    <tr>\n",
       "      <th>689448</th>\n",
       "      <td>Dyzelinas</td>\n",
       "      <td>8350.00</td>\n",
       "      <td>65</td>\n",
       "      <td>4343</td>\n",
       "    </tr>\n",
       "    <tr>\n",
       "      <th>689450</th>\n",
       "      <td>Dyzelinas</td>\n",
       "      <td>142054.00</td>\n",
       "      <td>65</td>\n",
       "      <td>89</td>\n",
       "    </tr>\n",
       "    <tr>\n",
       "      <th>689452</th>\n",
       "      <td>Dyzelinas</td>\n",
       "      <td>142054.00</td>\n",
       "      <td>65</td>\n",
       "      <td>89</td>\n",
       "    </tr>\n",
       "    <tr>\n",
       "      <th>689454</th>\n",
       "      <td>Dyzelinas</td>\n",
       "      <td>9000.00</td>\n",
       "      <td>64</td>\n",
       "      <td>2223</td>\n",
       "    </tr>\n",
       "    <tr>\n",
       "      <th>689457</th>\n",
       "      <td>Dyzelinas</td>\n",
       "      <td>7250.00</td>\n",
       "      <td>64</td>\n",
       "      <td>1423</td>\n",
       "    </tr>\n",
       "    <tr>\n",
       "      <th>689458</th>\n",
       "      <td>Dyzelinas</td>\n",
       "      <td>3000.00</td>\n",
       "      <td>64</td>\n",
       "      <td>4456</td>\n",
       "    </tr>\n",
       "    <tr>\n",
       "      <th>689459</th>\n",
       "      <td>Dyzelinas</td>\n",
       "      <td>2500.00</td>\n",
       "      <td>64</td>\n",
       "      <td>4325</td>\n",
       "    </tr>\n",
       "    <tr>\n",
       "      <th>689460</th>\n",
       "      <td>Dyzelinas</td>\n",
       "      <td>2700.00</td>\n",
       "      <td>64</td>\n",
       "      <td>3559</td>\n",
       "    </tr>\n",
       "    <tr>\n",
       "      <th>689462</th>\n",
       "      <td>Dyzelinas</td>\n",
       "      <td>2700.00</td>\n",
       "      <td>64</td>\n",
       "      <td>4862</td>\n",
       "    </tr>\n",
       "    <tr>\n",
       "      <th>689466</th>\n",
       "      <td>Dyzelinas</td>\n",
       "      <td>1900.00</td>\n",
       "      <td>64</td>\n",
       "      <td>5284</td>\n",
       "    </tr>\n",
       "    <tr>\n",
       "      <th>689468</th>\n",
       "      <td>Dyzelinas</td>\n",
       "      <td>14000.00</td>\n",
       "      <td>64</td>\n",
       "      <td>2365</td>\n",
       "    </tr>\n",
       "    <tr>\n",
       "      <th>689469</th>\n",
       "      <td>Benzinas</td>\n",
       "      <td>2000.00</td>\n",
       "      <td>64</td>\n",
       "      <td>4791</td>\n",
       "    </tr>\n",
       "    <tr>\n",
       "      <th>689470</th>\n",
       "      <td>Dyzelinas</td>\n",
       "      <td>5000.00</td>\n",
       "      <td>64</td>\n",
       "      <td>4463</td>\n",
       "    </tr>\n",
       "    <tr>\n",
       "      <th>689471</th>\n",
       "      <td>Dyzelinas</td>\n",
       "      <td>2200.00</td>\n",
       "      <td>64</td>\n",
       "      <td>4926</td>\n",
       "    </tr>\n",
       "    <tr>\n",
       "      <th>689472</th>\n",
       "      <td>Dyzelinas</td>\n",
       "      <td>4000.00</td>\n",
       "      <td>64</td>\n",
       "      <td>4332</td>\n",
       "    </tr>\n",
       "    <tr>\n",
       "      <th>689473</th>\n",
       "      <td>Dyzelinas</td>\n",
       "      <td>2450.00</td>\n",
       "      <td>64</td>\n",
       "      <td>5183</td>\n",
       "    </tr>\n",
       "    <tr>\n",
       "      <th>689474</th>\n",
       "      <td>Dyzelinas</td>\n",
       "      <td>7000.00</td>\n",
       "      <td>64</td>\n",
       "      <td>3023</td>\n",
       "    </tr>\n",
       "    <tr>\n",
       "      <th>689475</th>\n",
       "      <td>Dyzelinas</td>\n",
       "      <td>2000.00</td>\n",
       "      <td>64</td>\n",
       "      <td>4415</td>\n",
       "    </tr>\n",
       "    <tr>\n",
       "      <th>689476</th>\n",
       "      <td>Benzinas</td>\n",
       "      <td>1500.00</td>\n",
       "      <td>64</td>\n",
       "      <td>4583</td>\n",
       "    </tr>\n",
       "    <tr>\n",
       "      <th>689477</th>\n",
       "      <td>Dyzelinas</td>\n",
       "      <td>14000.00</td>\n",
       "      <td>64</td>\n",
       "      <td>2447</td>\n",
       "    </tr>\n",
       "    <tr>\n",
       "      <th>689478</th>\n",
       "      <td>Benzinas</td>\n",
       "      <td>1600.00</td>\n",
       "      <td>64</td>\n",
       "      <td>5345</td>\n",
       "    </tr>\n",
       "    <tr>\n",
       "      <th>689479</th>\n",
       "      <td>Dyzelinas</td>\n",
       "      <td>8650.00</td>\n",
       "      <td>64</td>\n",
       "      <td>1665</td>\n",
       "    </tr>\n",
       "    <tr>\n",
       "      <th>689480</th>\n",
       "      <td>Dyzelinas</td>\n",
       "      <td>14399.00</td>\n",
       "      <td>64</td>\n",
       "      <td>5443</td>\n",
       "    </tr>\n",
       "    <tr>\n",
       "      <th>689481</th>\n",
       "      <td>Benzinas</td>\n",
       "      <td>1100.00</td>\n",
       "      <td>64</td>\n",
       "      <td>5338</td>\n",
       "    </tr>\n",
       "    <tr>\n",
       "      <th>689483</th>\n",
       "      <td>Dyzelinas</td>\n",
       "      <td>8300.00</td>\n",
       "      <td>63</td>\n",
       "      <td>3709</td>\n",
       "    </tr>\n",
       "    <tr>\n",
       "      <th>689484</th>\n",
       "      <td>Dyzelinas</td>\n",
       "      <td>3800.00</td>\n",
       "      <td>63</td>\n",
       "      <td>3586</td>\n",
       "    </tr>\n",
       "  </tbody>\n",
       "</table>\n",
       "<p>108444 rows × 4 columns</p>\n",
       "</div>"
      ],
      "text/plain": [
       "          DEGALAI  SANDORIO_SUMA  SANDORIO_DATA_DAYS  PIRM_REG_DATA_DAYS\n",
       "0       Dyzelinas       25000.00                1792                1427\n",
       "1        Benzinas       33900.00                1792                1425\n",
       "3       Dyzelinas        3500.00                1784                8098\n",
       "5        Benzinas       11700.00                1776                1418\n",
       "8       Dyzelinas        9000.00                1642                8521\n",
       "9       Dyzelinas       38500.00                1640                1427\n",
       "12      Dyzelinas       22000.00                1601                6813\n",
       "13      Dyzelinas       71245.00                1599                1426\n",
       "14      Dyzelinas       71245.00                1599                1426\n",
       "15       Benzinas       78854.00                1595                1420\n",
       "20       Benzinas       42814.80                1558                1417\n",
       "21      Dyzelinas        1115.50                1545                7240\n",
       "22       Benzinas       21700.00                1542                1412\n",
       "23      Dyzelinas       67870.00                1542                1427\n",
       "24      Dyzelinas       20050.00                1539                1412\n",
       "25      Dyzelinas       18500.00                1536                2347\n",
       "26      Dyzelinas       30300.00                1532                1426\n",
       "27      Dyzelinas       30300.00                1532                1426\n",
       "28      Dyzelinas       30300.00                1532                1426\n",
       "29      Dyzelinas        6000.00                1528                4286\n",
       "30      Dyzelinas       13642.00                1528                7857\n",
       "31      Dyzelinas       25000.00                1528                4112\n",
       "32      Dyzelinas       69250.00                1528                1419\n",
       "35      Dyzelinas       83777.00                1521                1425\n",
       "36      Dyzelinas       15600.00                1511                1424\n",
       "37      Dyzelinas       46280.99                1511                1427\n",
       "38       Benzinas       61500.00                1510                1418\n",
       "43      Dyzelinas       29051.98                1507                1423\n",
       "48      Dyzelinas       19900.00                1503                1418\n",
       "49      Dyzelinas       21333.00                1503                1429\n",
       "...           ...            ...                 ...                 ...\n",
       "689443   Benzinas       19000.00                  65                1158\n",
       "689444  Dyzelinas       82944.00                  65                  66\n",
       "689445  Dyzelinas       24140.00                  65                  65\n",
       "689446   Benzinas       10490.00                  65                1207\n",
       "689448  Dyzelinas        8350.00                  65                4343\n",
       "689450  Dyzelinas      142054.00                  65                  89\n",
       "689452  Dyzelinas      142054.00                  65                  89\n",
       "689454  Dyzelinas        9000.00                  64                2223\n",
       "689457  Dyzelinas        7250.00                  64                1423\n",
       "689458  Dyzelinas        3000.00                  64                4456\n",
       "689459  Dyzelinas        2500.00                  64                4325\n",
       "689460  Dyzelinas        2700.00                  64                3559\n",
       "689462  Dyzelinas        2700.00                  64                4862\n",
       "689466  Dyzelinas        1900.00                  64                5284\n",
       "689468  Dyzelinas       14000.00                  64                2365\n",
       "689469   Benzinas        2000.00                  64                4791\n",
       "689470  Dyzelinas        5000.00                  64                4463\n",
       "689471  Dyzelinas        2200.00                  64                4926\n",
       "689472  Dyzelinas        4000.00                  64                4332\n",
       "689473  Dyzelinas        2450.00                  64                5183\n",
       "689474  Dyzelinas        7000.00                  64                3023\n",
       "689475  Dyzelinas        2000.00                  64                4415\n",
       "689476   Benzinas        1500.00                  64                4583\n",
       "689477  Dyzelinas       14000.00                  64                2447\n",
       "689478   Benzinas        1600.00                  64                5345\n",
       "689479  Dyzelinas        8650.00                  64                1665\n",
       "689480  Dyzelinas       14399.00                  64                5443\n",
       "689481   Benzinas        1100.00                  64                5338\n",
       "689483  Dyzelinas        8300.00                  63                3709\n",
       "689484  Dyzelinas        3800.00                  63                3586\n",
       "\n",
       "[108444 rows x 4 columns]"
      ]
     },
     "execution_count": 91,
     "metadata": {},
     "output_type": "execute_result"
    }
   ],
   "source": [
    "fuel_data = raw_data[raw_data['DEGALAI'].notnull() \n",
    "                     & raw_data['SANDORIO_SUMA'].notnull() \n",
    "                     & (raw_data['VALIUTA'] == 'EUR')\n",
    "                     & raw_data['GALIA'].notnull()\n",
    "                     & raw_data['DARBINIS_TURIS'].notnull()\n",
    "                     & raw_data['PIRM_REG_DATA'].notnull()\n",
    "                     & raw_data['SANDORIO_DATA'].notnull()\n",
    "                    ]\n",
    "fuel_data = fuel_data.drop(['MARKE', 'PIRM_REG_DATA_LT', 'PASKUTINES_REG_DATA', 'KILMES_SALIS', 'VALIUTA'], axis='columns')\n",
    "fuel_data = fuel_data[(fuel_data['DEGALAI'] == 'Dyzelinas') | (fuel_data['DEGALAI'] == 'Benzinas')]\n",
    "fuel_data['SANDORIO_DATA'] = pd.to_datetime(fuel_data['SANDORIO_DATA'], errors='coerce')\n",
    "fuel_data['PIRM_REG_DATA'] = pd.to_datetime(fuel_data['PIRM_REG_DATA'], errors='coerce')\n",
    "fuel_data['SANDORIO_DATA_DAYS'] = (date.today() - fuel_data['SANDORIO_DATA'].dt.date).dt.days\n",
    "fuel_data['PIRM_REG_DATA_DAYS'] = (date.today() - fuel_data['PIRM_REG_DATA'].dt.date).dt.days\n",
    "fuel_data = fuel_data.drop(['SANDORIO_DATA', 'PIRM_REG_DATA', 'DARBINIS_TURIS', 'GALIA'], axis='columns')\n",
    "fuel_data = fuel_data[fuel_data['PIRM_REG_DATA_DAYS'] > 0]\n",
    "fuel_data = fuel_data[fuel_data['SANDORIO_DATA_DAYS'] > 0]\n",
    "fuel_data = fuel_data[fuel_data['SANDORIO_SUMA'] > 1000]\n",
    "fuel_data = fuel_data[fuel_data['SANDORIO_SUMA'] < 500000]\n",
    "fuel_data"
   ]
  },
  {
   "cell_type": "code",
   "execution_count": 92,
   "metadata": {},
   "outputs": [
    {
     "data": {
      "text/plain": [
       "21790"
      ]
     },
     "execution_count": 92,
     "metadata": {},
     "output_type": "execute_result"
    }
   ],
   "source": [
    "df0 = fuel_data[fuel_data['DEGALAI'] == \"Benzinas\" ]\n",
    "len(df0)"
   ]
  },
  {
   "cell_type": "code",
   "execution_count": 93,
   "metadata": {},
   "outputs": [
    {
     "data": {
      "text/plain": [
       "21790"
      ]
     },
     "execution_count": 93,
     "metadata": {},
     "output_type": "execute_result"
    }
   ],
   "source": [
    "df1 = fuel_data[fuel_data['DEGALAI'] == \"Dyzelinas\" ].head(len(df0))\n",
    "len(df1)"
   ]
  },
  {
   "cell_type": "code",
   "execution_count": 94,
   "metadata": {},
   "outputs": [
    {
     "data": {
      "text/plain": [
       "43580"
      ]
     },
     "execution_count": 94,
     "metadata": {},
     "output_type": "execute_result"
    }
   ],
   "source": [
    "fuel_data = pd.concat([df0, df1])\n",
    "len(fuel_data)"
   ]
  },
  {
   "cell_type": "code",
   "execution_count": 95,
   "metadata": {},
   "outputs": [
    {
     "data": {
      "text/plain": [
       "<matplotlib.legend.Legend at 0x1b5db716f08>"
      ]
     },
     "execution_count": 95,
     "metadata": {},
     "output_type": "execute_result"
    },
    {
     "data": {
      "image/png": "[encoded data removed]",
      "text/plain": [
       "<Figure size 1440x720 with 1 Axes>"
      ]
     },
     "metadata": {},
     "output_type": "display_data"
    }
   ],
   "source": [
    "plt.figure(figsize=(20,10))\n",
    "plt.xlabel('Sandorio suma €')\n",
    "plt.ylabel('Trukmė nuo sandorio(dienomis)')\n",
    "plt.scatter(df0['SANDORIO_SUMA'], df0['SANDORIO_DATA_DAYS'],color=\"green\",marker='+', label='Benzinas')\n",
    "plt.scatter(df1['SANDORIO_SUMA'], df1['SANDORIO_DATA_DAYS'],color=\"blue\",marker='.', label='Dyzelinas')\n",
    "plt.title('Dyzelinių ir benzininių automobilių sandorio suma pagal laiką nuo sandorio')\n",
    "plt.legend()"
   ]
  },
  {
   "cell_type": "markdown",
   "metadata": {},
   "source": [
    "### Pasirenkamas K artimiausių kaimynų klasifikatorius"
   ]
  },
  {
   "cell_type": "code",
   "execution_count": 96,
   "metadata": {},
   "outputs": [],
   "source": [
    "X = fuel_data.drop(['DEGALAI'], axis='columns')\n",
    "y = fuel_data['DEGALAI']"
   ]
  },
  {
   "cell_type": "code",
   "execution_count": 97,
   "metadata": {},
   "outputs": [
    {
     "name": "stdout",
     "output_type": "stream",
     "text": [
      "37043\n",
      "6537\n"
     ]
    }
   ],
   "source": [
    "from sklearn.model_selection import train_test_split\n",
    "\n",
    "X_train, X_test, y_train, y_test = train_test_split(X, y, test_size=0.15)\n",
    "\n",
    "print(len(X_train))\n",
    "print(len(X_test))\n",
    "\n"
   ]
  },
  {
   "cell_type": "code",
   "execution_count": 98,
   "metadata": {},
   "outputs": [],
   "source": [
    "scaling = MinMaxScaler(feature_range=(-1,1)).fit(X_train)\n",
    "X_train = scaling.transform(X_train)\n",
    "X_test = scaling.transform(X_test)"
   ]
  },
  {
   "cell_type": "code",
   "execution_count": 99,
   "metadata": {},
   "outputs": [
    {
     "data": {
      "text/plain": [
       "0.8909285605017592"
      ]
     },
     "execution_count": 99,
     "metadata": {},
     "output_type": "execute_result"
    }
   ],
   "source": [
    "model = KNeighborsClassifier(n_neighbors=7)\n",
    "model.fit(X_train, y_train)\n",
    "score = model.score(X_test, y_test)\n",
    "score   \n"
   ]
  },
  {
   "cell_type": "markdown",
   "metadata": {},
   "source": [
    "## Kokiu tikslumu galima nustatyti automobilio markę pagal pagaminimo datą, sandorio datą, galią, darbinį tūrį ir kainą?\n"
   ]
  },
  {
   "cell_type": "code",
   "execution_count": 100,
   "metadata": {
    "scrolled": true
   },
   "outputs": [],
   "source": [
    "brand_data = raw_data[raw_data['MARKE'].notnull() \n",
    "                     & raw_data['SANDORIO_SUMA'].notnull() \n",
    "                     & (raw_data['VALIUTA'] == 'EUR')\n",
    "                     & raw_data['GALIA'].notnull()\n",
    "                     & raw_data['DARBINIS_TURIS'].notnull()\n",
    "                     & raw_data['PIRM_REG_DATA'].notnull()\n",
    "                     & raw_data['SANDORIO_DATA'].notnull()\n",
    "                    ]\n",
    "brand_data = brand_data.drop(['PASKUTINES_REG_DATA', 'KILMES_SALIS', 'VALIUTA',  'DEGALAI', 'PIRM_REG_DATA_LT'], axis='columns')\n",
    "brand_data = brand_data[\n",
    "                          (brand_data['MARKE'] == 'VOLKSWAGEN') \n",
    "                        | (brand_data['MARKE'] == 'AUDI')\n",
    "                        | (brand_data['MARKE'] == 'TOYOTA')\n",
    "                        | (brand_data['MARKE'] == 'BMW')\n",
    "                        | (brand_data['MARKE'] == 'OPEL')\n",
    "                        | (brand_data['MARKE'] == 'MERCEDES BENZ')\n",
    "                       ]\n",
    "\n"
   ]
  },
  {
   "cell_type": "code",
   "execution_count": 101,
   "metadata": {},
   "outputs": [
    {
     "data": {
      "text/html": [
       "<div>\n",
       "<style scoped>\n",
       "    .dataframe tbody tr th:only-of-type {\n",
       "        vertical-align: middle;\n",
       "    }\n",
       "\n",
       "    .dataframe tbody tr th {\n",
       "        vertical-align: top;\n",
       "    }\n",
       "\n",
       "    .dataframe thead th {\n",
       "        text-align: right;\n",
       "    }\n",
       "</style>\n",
       "<table border=\"1\" class=\"dataframe\">\n",
       "  <thead>\n",
       "    <tr style=\"text-align: right;\">\n",
       "      <th></th>\n",
       "      <th>MARKE</th>\n",
       "      <th>SANDORIO_SUMA</th>\n",
       "      <th>GALIA</th>\n",
       "      <th>DARBINIS_TURIS</th>\n",
       "      <th>SANDORIO_DATA_DAYS</th>\n",
       "      <th>PIRM_REG_DATA_DAYS</th>\n",
       "    </tr>\n",
       "  </thead>\n",
       "  <tbody>\n",
       "    <tr>\n",
       "      <th>3</th>\n",
       "      <td>MERCEDES BENZ</td>\n",
       "      <td>3500.0</td>\n",
       "      <td>90.0</td>\n",
       "      <td>2874.0</td>\n",
       "      <td>1784</td>\n",
       "      <td>8098</td>\n",
       "    </tr>\n",
       "    <tr>\n",
       "      <th>7</th>\n",
       "      <td>VOLKSWAGEN</td>\n",
       "      <td>900.0</td>\n",
       "      <td>55.0</td>\n",
       "      <td>1781.0</td>\n",
       "      <td>1694</td>\n",
       "      <td>9344</td>\n",
       "    </tr>\n",
       "    <tr>\n",
       "      <th>13</th>\n",
       "      <td>VOLKSWAGEN</td>\n",
       "      <td>71245.0</td>\n",
       "      <td>103.0</td>\n",
       "      <td>1968.0</td>\n",
       "      <td>1599</td>\n",
       "      <td>1426</td>\n",
       "    </tr>\n",
       "    <tr>\n",
       "      <th>14</th>\n",
       "      <td>VOLKSWAGEN</td>\n",
       "      <td>71245.0</td>\n",
       "      <td>103.0</td>\n",
       "      <td>1968.0</td>\n",
       "      <td>1599</td>\n",
       "      <td>1426</td>\n",
       "    </tr>\n",
       "    <tr>\n",
       "      <th>15</th>\n",
       "      <td>BMW</td>\n",
       "      <td>78854.0</td>\n",
       "      <td>225.0</td>\n",
       "      <td>2979.0</td>\n",
       "      <td>1595</td>\n",
       "      <td>1420</td>\n",
       "    </tr>\n",
       "  </tbody>\n",
       "</table>\n",
       "</div>"
      ],
      "text/plain": [
       "            MARKE  SANDORIO_SUMA  GALIA  DARBINIS_TURIS  SANDORIO_DATA_DAYS  \\\n",
       "3   MERCEDES BENZ         3500.0   90.0          2874.0                1784   \n",
       "7      VOLKSWAGEN          900.0   55.0          1781.0                1694   \n",
       "13     VOLKSWAGEN        71245.0  103.0          1968.0                1599   \n",
       "14     VOLKSWAGEN        71245.0  103.0          1968.0                1599   \n",
       "15            BMW        78854.0  225.0          2979.0                1595   \n",
       "\n",
       "    PIRM_REG_DATA_DAYS  \n",
       "3                 8098  \n",
       "7                 9344  \n",
       "13                1426  \n",
       "14                1426  \n",
       "15                1420  "
      ]
     },
     "execution_count": 101,
     "metadata": {},
     "output_type": "execute_result"
    }
   ],
   "source": [
    "brand_data['SANDORIO_DATA'] = pd.to_datetime(brand_data['SANDORIO_DATA'], errors='coerce')\n",
    "brand_data['PIRM_REG_DATA'] = pd.to_datetime(brand_data['PIRM_REG_DATA'], errors='coerce')\n",
    "brand_data['SANDORIO_DATA_DAYS'] = (date.today() - brand_data['SANDORIO_DATA'].dt.date).dt.days\n",
    "brand_data['PIRM_REG_DATA_DAYS'] = (date.today() - brand_data['PIRM_REG_DATA'].dt.date).dt.days\n",
    "\n",
    "brand_data = brand_data[brand_data['PIRM_REG_DATA_DAYS'] > 0]\n",
    "brand_data = brand_data[brand_data['SANDORIO_DATA_DAYS'] > 0]\n",
    "brand_data = brand_data.drop(['SANDORIO_DATA', 'PIRM_REG_DATA'], axis='columns')\n",
    "brand_data.head()"
   ]
  },
  {
   "cell_type": "code",
   "execution_count": 102,
   "metadata": {},
   "outputs": [],
   "source": [
    "X1 = brand_data.drop(['MARKE'], axis='columns')\n",
    "y1 = brand_data['MARKE']"
   ]
  },
  {
   "cell_type": "markdown",
   "metadata": {},
   "source": [
    "### Pasirenkamas atsitiktinių miškų klasifikatorius"
   ]
  },
  {
   "cell_type": "code",
   "execution_count": 103,
   "metadata": {},
   "outputs": [
    {
     "name": "stdout",
     "output_type": "stream",
     "text": [
      "52525\n",
      "9270\n"
     ]
    }
   ],
   "source": [
    "\n",
    "X1_train, X1_test, y1_train, y1_test = train_test_split(X1, y1, test_size=0.15)\n",
    "\n",
    "print(len(X1_train))\n",
    "print(len(X1_test))\n"
   ]
  },
  {
   "cell_type": "code",
   "execution_count": 104,
   "metadata": {},
   "outputs": [],
   "source": [
    "scaling = MinMaxScaler(feature_range=(-1,1)).fit(X1_train)\n",
    "X1_train = scaling.transform(X1_train)\n",
    "X1_test = scaling.transform(X1_test)"
   ]
  },
  {
   "cell_type": "code",
   "execution_count": 105,
   "metadata": {},
   "outputs": [
    {
     "data": {
      "text/plain": [
       "RandomForestClassifier(bootstrap=True, class_weight=None, criterion='gini',\n",
       "                       max_depth=None, max_features='auto', max_leaf_nodes=None,\n",
       "                       min_impurity_decrease=0.0, min_impurity_split=None,\n",
       "                       min_samples_leaf=1, min_samples_split=2,\n",
       "                       min_weight_fraction_leaf=0.0, n_estimators=100,\n",
       "                       n_jobs=None, oob_score=False, random_state=10, verbose=0,\n",
       "                       warm_start=False)"
      ]
     },
     "execution_count": 105,
     "metadata": {},
     "output_type": "execute_result"
    }
   ],
   "source": [
    "model1 = RandomForestClassifier(n_estimators=100, random_state=10)\n",
    "model1.fit(X1_train, y1_train)"
   ]
  },
  {
   "cell_type": "code",
   "execution_count": 106,
   "metadata": {},
   "outputs": [
    {
     "data": {
      "text/plain": [
       "0.9598705501618123"
      ]
     },
     "execution_count": 106,
     "metadata": {},
     "output_type": "execute_result"
    }
   ],
   "source": [
    "model1.score(X1_test, y1_test)"
   ]
  },
  {
   "cell_type": "markdown",
   "metadata": {},
   "source": [
    "## Kokiu tikslumu galima nustatyti automobilio kainą?"
   ]
  },
  {
   "cell_type": "code",
   "execution_count": 191,
   "metadata": {},
   "outputs": [
    {
     "data": {
      "text/html": [
       "<div>\n",
       "<style scoped>\n",
       "    .dataframe tbody tr th:only-of-type {\n",
       "        vertical-align: middle;\n",
       "    }\n",
       "\n",
       "    .dataframe tbody tr th {\n",
       "        vertical-align: top;\n",
       "    }\n",
       "\n",
       "    .dataframe thead th {\n",
       "        text-align: right;\n",
       "    }\n",
       "</style>\n",
       "<table border=\"1\" class=\"dataframe\">\n",
       "  <thead>\n",
       "    <tr style=\"text-align: right;\">\n",
       "      <th></th>\n",
       "      <th>MARKE</th>\n",
       "      <th>DEGALAI</th>\n",
       "      <th>SANDORIO_SUMA</th>\n",
       "      <th>SANDORIO_DATA</th>\n",
       "      <th>GALIA</th>\n",
       "      <th>DARBINIS_TURIS</th>\n",
       "      <th>PIRM_REG_DATA</th>\n",
       "    </tr>\n",
       "  </thead>\n",
       "  <tbody>\n",
       "    <tr>\n",
       "      <th>143729</th>\n",
       "      <td>MERCEDES BENZ</td>\n",
       "      <td>Dyzelinas</td>\n",
       "      <td>9120980.0</td>\n",
       "      <td>2016-04-08</td>\n",
       "      <td>310.0</td>\n",
       "      <td>12809.0</td>\n",
       "      <td>2016-04-19</td>\n",
       "    </tr>\n",
       "    <tr>\n",
       "      <th>596034</th>\n",
       "      <td>MERCEDES BENZ</td>\n",
       "      <td>Dyzelinas</td>\n",
       "      <td>9033860.0</td>\n",
       "      <td>2018-05-02</td>\n",
       "      <td>310.0</td>\n",
       "      <td>12809.0</td>\n",
       "      <td>2018-08-24</td>\n",
       "    </tr>\n",
       "    <tr>\n",
       "      <th>566501</th>\n",
       "      <td>MERCEDES BENZ</td>\n",
       "      <td>Dyzelinas</td>\n",
       "      <td>8650653.0</td>\n",
       "      <td>2017-10-27</td>\n",
       "      <td>330.0</td>\n",
       "      <td>12809.0</td>\n",
       "      <td>2017-10-28</td>\n",
       "    </tr>\n",
       "    <tr>\n",
       "      <th>581100</th>\n",
       "      <td>MERCEDES BENZ</td>\n",
       "      <td>Dyzelinas</td>\n",
       "      <td>8576480.0</td>\n",
       "      <td>2018-02-12</td>\n",
       "      <td>330.0</td>\n",
       "      <td>12809.0</td>\n",
       "      <td>2018-03-06</td>\n",
       "    </tr>\n",
       "    <tr>\n",
       "      <th>636667</th>\n",
       "      <td>MERCEDES BENZ</td>\n",
       "      <td>Dyzelinas</td>\n",
       "      <td>4774502.0</td>\n",
       "      <td>2018-12-13</td>\n",
       "      <td>190.0</td>\n",
       "      <td>2987.0</td>\n",
       "      <td>2017-05-11</td>\n",
       "    </tr>\n",
       "    <tr>\n",
       "      <th>659913</th>\n",
       "      <td>VOLKSWAGEN</td>\n",
       "      <td>Dyzelinas</td>\n",
       "      <td>3513219.0</td>\n",
       "      <td>2019-04-23</td>\n",
       "      <td>75.0</td>\n",
       "      <td>1968.0</td>\n",
       "      <td>2017-02-14</td>\n",
       "    </tr>\n",
       "    <tr>\n",
       "      <th>149359</th>\n",
       "      <td>AUDI</td>\n",
       "      <td>Dyzelinas</td>\n",
       "      <td>3016807.0</td>\n",
       "      <td>2016-06-23</td>\n",
       "      <td>230.0</td>\n",
       "      <td>2967.0</td>\n",
       "      <td>2013-04-17</td>\n",
       "    </tr>\n",
       "    <tr>\n",
       "      <th>653198</th>\n",
       "      <td>TOYOTA</td>\n",
       "      <td>Benzinas</td>\n",
       "      <td>1919092.0</td>\n",
       "      <td>2019-03-21</td>\n",
       "      <td>129.0</td>\n",
       "      <td>1987.0</td>\n",
       "      <td>2019-04-10</td>\n",
       "    </tr>\n",
       "    <tr>\n",
       "      <th>673101</th>\n",
       "      <td>BMW</td>\n",
       "      <td>Dyzelinas</td>\n",
       "      <td>1605011.0</td>\n",
       "      <td>2019-06-30</td>\n",
       "      <td>190.0</td>\n",
       "      <td>2993.0</td>\n",
       "      <td>2013-05-28</td>\n",
       "    </tr>\n",
       "    <tr>\n",
       "      <th>638783</th>\n",
       "      <td>MERCEDES BENZ</td>\n",
       "      <td>Dyzelinas</td>\n",
       "      <td>1146114.0</td>\n",
       "      <td>2018-12-31</td>\n",
       "      <td>375.0</td>\n",
       "      <td>12809.0</td>\n",
       "      <td>2019-01-08</td>\n",
       "    </tr>\n",
       "  </tbody>\n",
       "</table>\n",
       "</div>"
      ],
      "text/plain": [
       "                MARKE    DEGALAI  SANDORIO_SUMA SANDORIO_DATA  GALIA  \\\n",
       "143729  MERCEDES BENZ  Dyzelinas      9120980.0    2016-04-08  310.0   \n",
       "596034  MERCEDES BENZ  Dyzelinas      9033860.0    2018-05-02  310.0   \n",
       "566501  MERCEDES BENZ  Dyzelinas      8650653.0    2017-10-27  330.0   \n",
       "581100  MERCEDES BENZ  Dyzelinas      8576480.0    2018-02-12  330.0   \n",
       "636667  MERCEDES BENZ  Dyzelinas      4774502.0    2018-12-13  190.0   \n",
       "659913     VOLKSWAGEN  Dyzelinas      3513219.0    2019-04-23   75.0   \n",
       "149359           AUDI  Dyzelinas      3016807.0    2016-06-23  230.0   \n",
       "653198         TOYOTA   Benzinas      1919092.0    2019-03-21  129.0   \n",
       "673101            BMW  Dyzelinas      1605011.0    2019-06-30  190.0   \n",
       "638783  MERCEDES BENZ  Dyzelinas      1146114.0    2018-12-31  375.0   \n",
       "\n",
       "        DARBINIS_TURIS PIRM_REG_DATA  \n",
       "143729         12809.0    2016-04-19  \n",
       "596034         12809.0    2018-08-24  \n",
       "566501         12809.0    2017-10-28  \n",
       "581100         12809.0    2018-03-06  \n",
       "636667          2987.0    2017-05-11  \n",
       "659913          1968.0    2017-02-14  \n",
       "149359          2967.0    2013-04-17  \n",
       "653198          1987.0    2019-04-10  \n",
       "673101          2993.0    2013-05-28  \n",
       "638783         12809.0    2019-01-08  "
      ]
     },
     "execution_count": 191,
     "metadata": {},
     "output_type": "execute_result"
    }
   ],
   "source": [
    "price_data = raw_data[raw_data['MARKE'].notnull() \n",
    "                     & raw_data['SANDORIO_SUMA'].notnull() \n",
    "                     & (raw_data['VALIUTA'] == 'EUR')\n",
    "                     & raw_data['GALIA'].notnull()\n",
    "                     & raw_data['DARBINIS_TURIS'].notnull()\n",
    "                     & raw_data['PIRM_REG_DATA'].notnull()\n",
    "                     & raw_data['SANDORIO_DATA'].notnull()\n",
    "                    ]\n",
    "price_data = price_data[\n",
    "                          (price_data['MARKE'] == 'VOLKSWAGEN') \n",
    "                        | (price_data['MARKE'] == 'AUDI')\n",
    "                        | (price_data['MARKE'] == 'TOYOTA')\n",
    "                        | (price_data['MARKE'] == 'BMW')\n",
    "                        | (price_data['MARKE'] == 'OPEL')\n",
    "                        | (price_data['MARKE'] == 'MERCEDES BENZ')\n",
    "                       ]\n",
    "\n",
    "\n",
    "price_data = price_data[(price_data['DEGALAI'] == 'Dyzelinas') | (price_data['DEGALAI'] == 'Benzinas')]\n",
    "\n",
    "price_data = price_data.drop(['PASKUTINES_REG_DATA', 'KILMES_SALIS', 'VALIUTA',  'PIRM_REG_DATA_LT'], axis='columns')\n",
    "\n",
    "price_data.sort_values(by=['SANDORIO_SUMA' ,'DARBINIS_TURIS'], ascending=False).head(10)"
   ]
  },
  {
   "cell_type": "code",
   "execution_count": 174,
   "metadata": {},
   "outputs": [],
   "source": [
    "price_data['SANDORIO_DATA'] = pd.to_datetime(price_data['SANDORIO_DATA'], errors='coerce')\n",
    "price_data['PIRM_REG_DATA'] = pd.to_datetime(price_data['PIRM_REG_DATA'], errors='coerce')\n",
    "price_data['SANDORIO_DATA_DAYS'] = (date.today() - price_data['SANDORIO_DATA'].dt.date).dt.days\n",
    "price_data['PIRM_REG_DATA_DAYS'] = (date.today() - price_data['PIRM_REG_DATA'].dt.date).dt.days\n",
    "price_data = price_data[price_data['PIRM_REG_DATA_DAYS'] > 0]\n",
    "price_data = price_data[price_data['SANDORIO_DATA_DAYS'] > 0]\n",
    "price_data = price_data.drop(['SANDORIO_DATA', 'PIRM_REG_DATA'], axis='columns')\n"
   ]
  },
  {
   "cell_type": "code",
   "execution_count": 175,
   "metadata": {},
   "outputs": [],
   "source": [
    "df0 = price_data[price_data['DEGALAI'] == 'Dyzelinas']\n",
    "df1 = price_data[price_data['DEGALAI'] == 'Benzinas']"
   ]
  },
  {
   "cell_type": "code",
   "execution_count": 176,
   "metadata": {},
   "outputs": [
    {
     "data": {
      "text/plain": [
       "<matplotlib.legend.Legend at 0x1b5dbd2f848>"
      ]
     },
     "execution_count": 176,
     "metadata": {},
     "output_type": "execute_result"
    },
    {
     "data": {
      "image/png": "[encoded data removed]",
      "text/plain": [
       "<Figure size 1440x720 with 1 Axes>"
      ]
     },
     "metadata": {},
     "output_type": "display_data"
    }
   ],
   "source": [
    "\n",
    "plt.figure(figsize=(20,10))\n",
    "plt.xlabel('Sandorio suma €')\n",
    "plt.ylabel('Trukmė nuo sandorio(dienomis)')\n",
    "\n",
    "plt.scatter(df0['SANDORIO_SUMA'], df0['SANDORIO_DATA_DAYS'],color=\"red\",marker='+', label='Dyzelinas')\n",
    "plt.scatter(df1['SANDORIO_SUMA'], df1['SANDORIO_DATA_DAYS'],color=\"blue\",marker='.', label='Benzinas')\n",
    "plt.title('Dyzelinių ir benzininių automobilių sandorio suma pagal laiką nuo sandorio')\n",
    "plt.legend()"
   ]
  },
  {
   "cell_type": "code",
   "execution_count": 177,
   "metadata": {},
   "outputs": [
    {
     "data": {
      "text/plain": [
       "Text(0.5, 1.0, 'Dyzelino populiarumas pagal valstybę')"
      ]
     },
     "execution_count": 177,
     "metadata": {},
     "output_type": "execute_result"
    },
    {
     "data": {
      "image/png": "[encoded data removed]",
      "text/plain": [
       "<Figure size 1440x720 with 1 Axes>"
      ]
     },
     "metadata": {},
     "output_type": "display_data"
    }
   ],
   "source": [
    "grouped_marke = price_data.groupby(['MARKE'])\n",
    "plt.figure(figsize=(20,10))\n",
    "\n",
    "for key, item in grouped_marke:\n",
    "    plt.scatter( 'SANDORIO_SUMA', 'SANDORIO_DATA_DAYS', data=grouped_marke.get_group(key), color=np.random.rand(3,), marker='.', label=key)\n",
    "plt.legend()\n",
    "plt.xlabel('Sandorio suma €')\n",
    "plt.ylabel('Trukmė nuo sandorio(dienomis)')\n",
    "plt.title('Dyzelino populiarumas pagal valstybę')"
   ]
  },
  {
   "cell_type": "code",
   "execution_count": 178,
   "metadata": {},
   "outputs": [
    {
     "data": {
      "text/plain": [
       "Text(0.5, 1.0, 'Kainos priklausomybė nuo automobilio darbinio tūrio')"
      ]
     },
     "execution_count": 178,
     "metadata": {},
     "output_type": "execute_result"
    },
    {
     "data": {
      "image/png": "[encoded data removed]",
      "text/plain": [
       "<Figure size 1440x720 with 2 Axes>"
      ]
     },
     "metadata": {},
     "output_type": "display_data"
    }
   ],
   "source": [
    "\n",
    "plt.figure(figsize=(20,10))\n",
    "plt.subplot(1,2,1)\n",
    "plt.xlabel('Galia')\n",
    "plt.ylabel('Sandorio suma €')\n",
    "plt.title('Kainos priklausomybė nuo automobilio galios')\n",
    "plt.scatter(price_data['GALIA'], price_data['SANDORIO_SUMA'],color=\"red\",)\n",
    "\n",
    "\n",
    "plt.subplot(1,2,2)\n",
    "plt.scatter(price_data['DARBINIS_TURIS'], price_data['SANDORIO_SUMA'],color=\"green\")\n",
    "plt.xlabel('Darbinis tūris')\n",
    "plt.ylabel('Sandorio suma €')\n",
    "plt.title('Kainos priklausomybė nuo automobilio darbinio tūrio')"
   ]
  },
  {
   "cell_type": "markdown",
   "metadata": {},
   "source": [
    "#### Nuspręsta kainų prognozę vykdyti nuo 1000 iki 50000 €, kadangi pigesnių ir brangesnių automobilių yra labai nedaug duomenų ir jie stipriai paveikia bendrą tikslumą.\n"
   ]
  },
  {
   "cell_type": "code",
   "execution_count": 179,
   "metadata": {},
   "outputs": [
    {
     "data": {
      "text/html": [
       "<div>\n",
       "<style scoped>\n",
       "    .dataframe tbody tr th:only-of-type {\n",
       "        vertical-align: middle;\n",
       "    }\n",
       "\n",
       "    .dataframe tbody tr th {\n",
       "        vertical-align: top;\n",
       "    }\n",
       "\n",
       "    .dataframe thead th {\n",
       "        text-align: right;\n",
       "    }\n",
       "</style>\n",
       "<table border=\"1\" class=\"dataframe\">\n",
       "  <thead>\n",
       "    <tr style=\"text-align: right;\">\n",
       "      <th></th>\n",
       "      <th>MARKE</th>\n",
       "      <th>DEGALAI</th>\n",
       "      <th>SANDORIO_SUMA</th>\n",
       "      <th>GALIA</th>\n",
       "      <th>DARBINIS_TURIS</th>\n",
       "      <th>SANDORIO_DATA_DAYS</th>\n",
       "      <th>PIRM_REG_DATA_DAYS</th>\n",
       "    </tr>\n",
       "  </thead>\n",
       "  <tbody>\n",
       "    <tr>\n",
       "      <th>3</th>\n",
       "      <td>MERCEDES BENZ</td>\n",
       "      <td>Dyzelinas</td>\n",
       "      <td>3500.0</td>\n",
       "      <td>90.0</td>\n",
       "      <td>2874.0</td>\n",
       "      <td>1784</td>\n",
       "      <td>8098</td>\n",
       "    </tr>\n",
       "    <tr>\n",
       "      <th>20</th>\n",
       "      <td>BMW</td>\n",
       "      <td>Benzinas</td>\n",
       "      <td>42814.8</td>\n",
       "      <td>135.0</td>\n",
       "      <td>1997.0</td>\n",
       "      <td>1558</td>\n",
       "      <td>1417</td>\n",
       "    </tr>\n",
       "    <tr>\n",
       "      <th>21</th>\n",
       "      <td>VOLKSWAGEN</td>\n",
       "      <td>Dyzelinas</td>\n",
       "      <td>1115.5</td>\n",
       "      <td>80.0</td>\n",
       "      <td>2460.0</td>\n",
       "      <td>1545</td>\n",
       "      <td>7240</td>\n",
       "    </tr>\n",
       "    <tr>\n",
       "      <th>22</th>\n",
       "      <td>BMW</td>\n",
       "      <td>Benzinas</td>\n",
       "      <td>21700.0</td>\n",
       "      <td>110.0</td>\n",
       "      <td>1499.0</td>\n",
       "      <td>1542</td>\n",
       "      <td>1412</td>\n",
       "    </tr>\n",
       "    <tr>\n",
       "      <th>24</th>\n",
       "      <td>VOLKSWAGEN</td>\n",
       "      <td>Dyzelinas</td>\n",
       "      <td>20050.0</td>\n",
       "      <td>81.0</td>\n",
       "      <td>1968.0</td>\n",
       "      <td>1539</td>\n",
       "      <td>1412</td>\n",
       "    </tr>\n",
       "  </tbody>\n",
       "</table>\n",
       "</div>"
      ],
      "text/plain": [
       "            MARKE    DEGALAI  SANDORIO_SUMA  GALIA  DARBINIS_TURIS  \\\n",
       "3   MERCEDES BENZ  Dyzelinas         3500.0   90.0          2874.0   \n",
       "20            BMW   Benzinas        42814.8  135.0          1997.0   \n",
       "21     VOLKSWAGEN  Dyzelinas         1115.5   80.0          2460.0   \n",
       "22            BMW   Benzinas        21700.0  110.0          1499.0   \n",
       "24     VOLKSWAGEN  Dyzelinas        20050.0   81.0          1968.0   \n",
       "\n",
       "    SANDORIO_DATA_DAYS  PIRM_REG_DATA_DAYS  \n",
       "3                 1784                8098  \n",
       "20                1558                1417  \n",
       "21                1545                7240  \n",
       "22                1542                1412  \n",
       "24                1539                1412  "
      ]
     },
     "execution_count": 179,
     "metadata": {},
     "output_type": "execute_result"
    }
   ],
   "source": [
    "price_data = price_data[price_data['SANDORIO_SUMA'] > 1000]\n",
    "price_data = price_data[price_data['SANDORIO_SUMA'] < 50000]\n",
    "price_data.head()"
   ]
  },
  {
   "cell_type": "markdown",
   "metadata": {},
   "source": [
    "#### Taip pat pastebėta, kad duomenų rinkinyje yra automobilių, kurių darbinis tūris yra netoli 20L šie automobiliai greičiausiai yra sunkesvoriai, todėl nuspręsta naudoti duomenis nuo 0 iki 5l (5000)"
   ]
  },
  {
   "cell_type": "code",
   "execution_count": 180,
   "metadata": {},
   "outputs": [],
   "source": [
    "price_data = price_data[price_data['DARBINIS_TURIS'] < 4000]\n"
   ]
  },
  {
   "cell_type": "markdown",
   "metadata": {},
   "source": [
    "#### Sumaišome duomenis bei pasirenkame pirmus 10 tūkstančių."
   ]
  },
  {
   "cell_type": "code",
   "execution_count": 181,
   "metadata": {},
   "outputs": [],
   "source": [
    "from sklearn.utils import shuffle\n",
    "price_data = shuffle(price_data)\n",
    "price_data = price_data.head(10000)"
   ]
  },
  {
   "cell_type": "markdown",
   "metadata": {},
   "source": [
    "### One hot encoding"
   ]
  },
  {
   "cell_type": "code",
   "execution_count": 182,
   "metadata": {},
   "outputs": [
    {
     "data": {
      "text/html": [
       "<div>\n",
       "<style scoped>\n",
       "    .dataframe tbody tr th:only-of-type {\n",
       "        vertical-align: middle;\n",
       "    }\n",
       "\n",
       "    .dataframe tbody tr th {\n",
       "        vertical-align: top;\n",
       "    }\n",
       "\n",
       "    .dataframe thead th {\n",
       "        text-align: right;\n",
       "    }\n",
       "</style>\n",
       "<table border=\"1\" class=\"dataframe\">\n",
       "  <thead>\n",
       "    <tr style=\"text-align: right;\">\n",
       "      <th></th>\n",
       "      <th>SANDORIO_SUMA</th>\n",
       "      <th>GALIA</th>\n",
       "      <th>DARBINIS_TURIS</th>\n",
       "      <th>SANDORIO_DATA_DAYS</th>\n",
       "      <th>PIRM_REG_DATA_DAYS</th>\n",
       "      <th>MARKE_AUDI</th>\n",
       "      <th>MARKE_BMW</th>\n",
       "      <th>MARKE_MERCEDES BENZ</th>\n",
       "      <th>MARKE_OPEL</th>\n",
       "      <th>MARKE_TOYOTA</th>\n",
       "      <th>MARKE_VOLKSWAGEN</th>\n",
       "      <th>DEGALAI_Benzinas</th>\n",
       "      <th>DEGALAI_Dyzelinas</th>\n",
       "    </tr>\n",
       "  </thead>\n",
       "  <tbody>\n",
       "    <tr>\n",
       "      <th>679702</th>\n",
       "      <td>5461.0</td>\n",
       "      <td>103.0</td>\n",
       "      <td>1956.0</td>\n",
       "      <td>117</td>\n",
       "      <td>1657</td>\n",
       "      <td>0</td>\n",
       "      <td>0</td>\n",
       "      <td>0</td>\n",
       "      <td>1</td>\n",
       "      <td>0</td>\n",
       "      <td>0</td>\n",
       "      <td>0</td>\n",
       "      <td>1</td>\n",
       "    </tr>\n",
       "    <tr>\n",
       "      <th>684823</th>\n",
       "      <td>21970.0</td>\n",
       "      <td>85.0</td>\n",
       "      <td>1197.0</td>\n",
       "      <td>89</td>\n",
       "      <td>73</td>\n",
       "      <td>0</td>\n",
       "      <td>0</td>\n",
       "      <td>0</td>\n",
       "      <td>0</td>\n",
       "      <td>1</td>\n",
       "      <td>0</td>\n",
       "      <td>1</td>\n",
       "      <td>0</td>\n",
       "    </tr>\n",
       "    <tr>\n",
       "      <th>628257</th>\n",
       "      <td>1500.0</td>\n",
       "      <td>120.0</td>\n",
       "      <td>2496.0</td>\n",
       "      <td>407</td>\n",
       "      <td>6115</td>\n",
       "      <td>1</td>\n",
       "      <td>0</td>\n",
       "      <td>0</td>\n",
       "      <td>0</td>\n",
       "      <td>0</td>\n",
       "      <td>0</td>\n",
       "      <td>0</td>\n",
       "      <td>1</td>\n",
       "    </tr>\n",
       "    <tr>\n",
       "      <th>20</th>\n",
       "      <td>42814.8</td>\n",
       "      <td>135.0</td>\n",
       "      <td>1997.0</td>\n",
       "      <td>1558</td>\n",
       "      <td>1417</td>\n",
       "      <td>0</td>\n",
       "      <td>1</td>\n",
       "      <td>0</td>\n",
       "      <td>0</td>\n",
       "      <td>0</td>\n",
       "      <td>0</td>\n",
       "      <td>1</td>\n",
       "      <td>0</td>\n",
       "    </tr>\n",
       "    <tr>\n",
       "      <th>632534</th>\n",
       "      <td>16115.7</td>\n",
       "      <td>96.0</td>\n",
       "      <td>1498.0</td>\n",
       "      <td>381</td>\n",
       "      <td>380</td>\n",
       "      <td>0</td>\n",
       "      <td>0</td>\n",
       "      <td>0</td>\n",
       "      <td>0</td>\n",
       "      <td>0</td>\n",
       "      <td>1</td>\n",
       "      <td>1</td>\n",
       "      <td>0</td>\n",
       "    </tr>\n",
       "  </tbody>\n",
       "</table>\n",
       "</div>"
      ],
      "text/plain": [
       "        SANDORIO_SUMA  GALIA  DARBINIS_TURIS  SANDORIO_DATA_DAYS  \\\n",
       "679702         5461.0  103.0          1956.0                 117   \n",
       "684823        21970.0   85.0          1197.0                  89   \n",
       "628257         1500.0  120.0          2496.0                 407   \n",
       "20            42814.8  135.0          1997.0                1558   \n",
       "632534        16115.7   96.0          1498.0                 381   \n",
       "\n",
       "        PIRM_REG_DATA_DAYS  MARKE_AUDI  MARKE_BMW  MARKE_MERCEDES BENZ  \\\n",
       "679702                1657           0          0                    0   \n",
       "684823                  73           0          0                    0   \n",
       "628257                6115           1          0                    0   \n",
       "20                    1417           0          1                    0   \n",
       "632534                 380           0          0                    0   \n",
       "\n",
       "        MARKE_OPEL  MARKE_TOYOTA  MARKE_VOLKSWAGEN  DEGALAI_Benzinas  \\\n",
       "679702           1             0                 0                 0   \n",
       "684823           0             1                 0                 1   \n",
       "628257           0             0                 0                 0   \n",
       "20               0             0                 0                 1   \n",
       "632534           0             0                 1                 1   \n",
       "\n",
       "        DEGALAI_Dyzelinas  \n",
       "679702                  1  \n",
       "684823                  0  \n",
       "628257                  1  \n",
       "20                      0  \n",
       "632534                  0  "
      ]
     },
     "execution_count": 182,
     "metadata": {},
     "output_type": "execute_result"
    }
   ],
   "source": [
    "X2 = price_data\n",
    "X2 = pd.get_dummies(data=X2)\n",
    "X2.head()"
   ]
  },
  {
   "cell_type": "code",
   "execution_count": 183,
   "metadata": {},
   "outputs": [],
   "source": [
    "X2 = X2.drop([ 'SANDORIO_SUMA'], axis='columns')\n",
    "y2 = price_data['SANDORIO_SUMA']"
   ]
  },
  {
   "cell_type": "code",
   "execution_count": 184,
   "metadata": {},
   "outputs": [
    {
     "name": "stdout",
     "output_type": "stream",
     "text": [
      "8000\n",
      "2000\n"
     ]
    }
   ],
   "source": [
    "X2_train, X2_test, y2_train, y2_test = train_test_split(X2, y2, test_size=0.2)\n",
    "\n",
    "print(len(X2_train))\n",
    "print(len(X2_test))\n"
   ]
  },
  {
   "cell_type": "code",
   "execution_count": 185,
   "metadata": {},
   "outputs": [],
   "source": [
    "scaling = MinMaxScaler(feature_range=(-1,1)).fit(X2_train)\n",
    "X2_train = scaling.transform(X2_train)\n",
    "X2_test = scaling.transform(X2_test)"
   ]
  },
  {
   "cell_type": "code",
   "execution_count": 186,
   "metadata": {},
   "outputs": [],
   "source": [
    "\n",
    "\n",
    "gradient_model = GradientBoostingRegressor(loss ='ls', max_depth=5)\n",
    "\n",
    "gradient_model.fit (X2_train, y2_train)\n",
    "score = gradient_model.score(X2_test, y2_test)\n",
    "predicted = gradient_model.predict(X2_test)\n",
    "difference = y2_test - predicted"
   ]
  },
  {
   "cell_type": "code",
   "execution_count": 187,
   "metadata": {},
   "outputs": [],
   "source": [
    "rmse = np.sqrt(mean_squared_error(y2_test, predicted))\n",
    "scores = cross_val_score(gradient_model, X2, y2, cv=5)"
   ]
  },
  {
   "cell_type": "code",
   "execution_count": 188,
   "metadata": {},
   "outputs": [
    {
     "name": "stdout",
     "output_type": "stream",
     "text": [
      "\n",
      "Cross Validation Scores:\n",
      "[0.87892828 0.89623291 0.89533919 0.88315165 0.8993059 ]\n",
      "\n",
      "Mean Score:\n",
      "0.8905915863139302\n",
      "\n",
      "RMSE:\n",
      "4119.483703796175\n",
      "Variance score: 0.89\n"
     ]
    }
   ],
   "source": [
    "\n",
    "print('\\nCross Validation Scores:')\n",
    "print(scores)\n",
    "print('\\nMean Score:')\n",
    "print(scores.mean())\n",
    "print('\\nRMSE:')\n",
    "print(rmse)\n",
    "\n",
    "print('Variance score: %.2f' % r2_score(y2_test, predicted))"
   ]
  },
  {
   "cell_type": "markdown",
   "metadata": {},
   "source": [
    "## Išvados, pastebėjimai\n",
    "\n",
    "1. Prognozuojant kainą gerą rezultatą pavyko pasiekti tik tada, kai buvo nuspręsta naudoti automobilių, kurie kainuoja nuo 1000 iki 50000 € duomenis.\n",
    "1. Taip pat rezultatas šiek tiek pagerėjo (apie vidutinis rezultatas pagerėjo apie 0.03), kai buvo nuspręsta naudoti tik tų automobilių duomenis, kurių darbinis tūris neviršija 5l (dažniausiai tik sportinių automobilių darbinis tūris yra didesnis nei 5l).\n",
    "1. Kainų prognozei tego panaudoti \"One hot encoding\", kadangi buvo naudojami kuro bei markės duomenys.\n"
   ]
  }
 ],
 "metadata": {
  "kernelspec": {
   "display_name": "Python 3",
   "language": "python",
   "name": "python3"
  },
  "language_info": {
   "codemirror_mode": {
    "name": "ipython",
    "version": 3
   },
   "file_extension": ".py",
   "mimetype": "text/x-python",
   "name": "python",
   "nbconvert_exporter": "python",
   "pygments_lexer": "ipython3",
   "version": "3.7.4"
  }
 },
 "nbformat": 4,
 "nbformat_minor": 4
}
